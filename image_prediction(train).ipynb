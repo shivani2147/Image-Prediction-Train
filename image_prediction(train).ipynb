{
 "cells": [
  {
   "cell_type": "markdown",
   "id": "bedd50d3",
   "metadata": {},
   "source": [
    "# Train the Model"
   ]
  },
  {
   "cell_type": "code",
   "execution_count": null,
   "id": "5fee7edf",
   "metadata": {},
   "outputs": [],
   "source": [
    "# ! yolo task=detect mode=train model=yolov8n.pt data=D:\\My_Project\\Aquarium_Train_Yolov8\\data.yaml epochs=10 imgsz=640\n",
    "\n",
    "# load a pretrained model\n",
    "model = YOLO('yolov8n.pt')\n",
    "\n",
    "# Train the model\n",
    "model.train(data = \"D:\\My_Project\\Aquarium_Train_Yolov8\\data.yaml\", epochs = 10, imgsz = 640)"
   ]
  },
  {
   "cell_type": "markdown",
   "id": "14903491",
   "metadata": {},
   "source": [
    "# Validate the Model"
   ]
  },
  {
   "cell_type": "code",
   "execution_count": null,
   "id": "c06398b2",
   "metadata": {},
   "outputs": [],
   "source": [
    "# ! yolo task=detect mode=val model=...train\\weights\\best.pt data=...data.yaml\n",
    "\n",
    "model = YOLO(r\"D:\\My_Project\\Anaconda_Envs\\runs\\detect\\train\\weights\\best.pt\")\n",
    "model.val(data = \"D:\\My_Project\\Aquarium_Train_Yolov8\\data.yaml\")"
   ]
  },
  {
   "cell_type": "markdown",
   "id": "425b017d",
   "metadata": {},
   "source": [
    "# Test / Predict the Model"
   ]
  },
  {
   "cell_type": "code",
   "execution_count": null,
   "id": "7079e010",
   "metadata": {},
   "outputs": [],
   "source": [
    "# ! yolo task=detect mode=predict model=...\\weights\\best.pt data=...\\data.yaml conf=0.25 source=...\\test\\images\n",
    "\n",
    "model.predict(source = 'D:\\My_Project\\Aquarium_Train_Yolov8\\test\\images', \n",
    "              data = r\"D:\\My_Project\\Anaconda_Envs\\runs\\detect\\train\\weights\\best.pt\", \n",
    "              conf = 0.25, visualise = True, save = True)"
   ]
  }
 ],
 "metadata": {
  "kernelspec": {
   "display_name": "YOLO",
   "language": "python",
   "name": "yolo"
  },
  "language_info": {
   "codemirror_mode": {
    "name": "ipython",
    "version": 3
   },
   "file_extension": ".py",
   "mimetype": "text/x-python",
   "name": "python",
   "nbconvert_exporter": "python",
   "pygments_lexer": "ipython3",
   "version": "3.11.2"
  }
 },
 "nbformat": 4,
 "nbformat_minor": 5
}
